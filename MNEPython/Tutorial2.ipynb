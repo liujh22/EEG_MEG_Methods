{
 "cells": [
  {
   "cell_type": "code",
   "metadata": {
    "ExecuteTime": {
     "end_time": "2024-10-09T21:29:52.596325Z",
     "start_time": "2024-10-09T21:29:52.592920Z"
    }
   },
   "source": [
    "# Load modules necessary\n",
    "import os\n",
    "import numpy as np\n",
    "import matplotlib.pyplot as plt\n",
    "import mne\n",
    "import pandas as pd\n",
    "from scipy.signal import detrend\n",
    "\n",
    "%matplotlib qt"
   ],
   "outputs": [],
   "execution_count": 2
  },
  {
   "cell_type": "markdown",
   "metadata": {},
   "source": [
    "## Load sample dataset\n",
    "\n",
    "##### For EEG dataset, we will use CHB-MIT Scalp EEG Dataset from here: https://physionet.org/content/chbmit/1.0.0/chb01/#files-panel\n",
    "\n",
    "##### The original dataset contains 22 subjects. However, here in this tutorial we will explore data from Subject 01\n",
    "##### You can download the dataset from Brightspace"
   ]
  },
  {
   "cell_type": "markdown",
   "metadata": {},
   "source": [
    "## Vectors (norm, dot product, cosine rule)\n",
    "\n",
    "##### A vector is a way of representing a data point in N-dimensional space. For example,\n",
    "##### v = [1, 2] is a 2-dimensional vector with x = 1 and y = 2\n",
    "##### w = [1, 2, 3] is a 3-dimensional vector with x = 1, y = 2, z = 3\n",
    "##### A vector has both length and direction\n",
    "\n",
    "##### Norm of a vector captures the length of the vector\n",
    "\n",
    "##### Cosine rule: \n",
    "##### cos($\\theta$) = $\\frac{(x * y)}{||x||.||y||}$"
   ]
  },
  {
   "cell_type": "code",
   "execution_count": 2,
   "metadata": {
    "ExecuteTime": {
     "end_time": "2024-09-11T19:54:57.424137Z",
     "start_time": "2024-09-11T19:54:57.420705Z"
    }
   },
   "outputs": [],
   "source": [
    "v1 = np.array([1, 2, 3])\n",
    "v2 = np.array([3, 4, 5])\n",
    "v3 = np.array([3, 6, 9])\n",
    "\n"
   ]
  },
  {
   "cell_type": "code",
   "execution_count": 4,
   "metadata": {
    "ExecuteTime": {
     "end_time": "2024-09-11T19:56:49.277972Z",
     "start_time": "2024-09-11T19:56:49.099284Z"
    }
   },
   "outputs": [
    {
     "name": "stdout",
     "output_type": "stream",
     "text": [
      "Extracting parameters from ../../Datasets/EEG/sub-01/eeg/sub-01_task-daf_eeg_filtered.vhdr...\n",
      "Setting channel info structure...\n",
      "Reading 0 ... 244237  =      0.000 ...   976.948 secs...\n"
     ]
    },
    {
     "data": {
      "text/plain": "<RawBrainVision | sub-01_task-daf_eeg_filtered.eeg, 66 x 244238 (976.9 s), ~123.1 MB, data loaded>",
      "text/html": "<script type=\"text/javascript\">\n    const toggleVisibility = (className) => {\n\n  const elements = document.querySelectorAll(`.${className}`)\n\n  elements.forEach(element => {\n    if (element.classList.contains('repr-section-header')) {\n      // Don't collapse the section header row.\n       return\n    }\n    if (element.classList.contains('repr-element-collapsed')) {\n      // Force a reflow to ensure the display change takes effect before removing the class\n      element.classList.remove('repr-element-collapsed')\n      element.offsetHeight // This forces the browser to recalculate layout\n      element.classList.remove('repr-element-faded')\n    } else {\n      // Start transition to hide the element\n      element.classList.add('repr-element-faded')\n      element.addEventListener('transitionend', handler = (e) => {\n        if (e.propertyName === 'opacity' && getComputedStyle(element).opacity === '0.2') {\n          element.classList.add('repr-element-collapsed')\n          element.removeEventListener('transitionend', handler)\n        }\n      });\n    }\n  });\n\n  // Take care of button (adjust caret)\n  const button = document.querySelectorAll(`.repr-section-header.${className} > th.repr-section-toggle-col > button`)[0]\n  button.classList.toggle('collapsed')\n\n  // Take care of the tooltip of the section header row\n  const sectionHeaderRow = document.querySelectorAll(`tr.repr-section-header.${className}`)[0]\n  sectionHeaderRow.classList.toggle('collapsed')\n  sectionHeaderRow.title = sectionHeaderRow.title === 'Hide section' ? 'Show section' : 'Hide section'\n}\n</script>\n\n<style type=\"text/css\">\n    table.repr.table.table-hover.table-striped.table-sm.table-responsive.small {\n  /* Don't make rows wider than they need to be. */\n  display: inline;\n}\n\ntable > tbody > tr.repr-element > td {\n  /* Apply a tighter layout to the table cells. */\n  padding-top: 0.1rem;\n  padding-bottom: 0.1rem;\n  padding-right: 1rem;\n}\n\ntable > tbody > tr > td.repr-section-toggle-col {\n  /* Remove background and border of the first cell in every row\n     (this row is only used for the collapse / uncollapse caret)\n\n     TODO: Need to find a good solution for VS Code that works in both\n           light and dark mode. */\n  border-color: transparent;\n  --bs-table-accent-bg: transparent;\n}\n\ntr.repr-section-header {\n  /* Remove stripes from section header rows */\n  background-color: transparent;\n  border-color: transparent;\n  --bs-table-striped-bg: transparent;\n  cursor: pointer;\n}\n\ntr.repr-section-header > th {\n  text-align: left !important;\n  vertical-align: middle;\n}\n\n.repr-element, tr.repr-element > td {\n  opacity: 1;\n  text-align: left !important;\n}\n\n.repr-element-faded {\n  transition: 0.3s ease;\n  opacity: 0.2;\n}\n\n.repr-element-collapsed {\n  display: none;\n}\n\n/* Collapse / uncollapse button and the caret it contains. */\n.repr-section-toggle-col button {\n  cursor: pointer;\n  width: 1rem;\n  background-color: transparent;\n  border-color: transparent;\n}\n\nspan.collapse-uncollapse-caret {\n  width: 1rem;\n  height: 1rem;\n  display: block;\n  background-repeat: no-repeat;\n  background-position: left;\n  background-size: contain;\n}\n\n/* The collapse / uncollapse carets were copied from the free Font Awesome collection and adjusted. */\n\n/* Default to black carets for light mode */\n.repr-section-toggle-col > button.collapsed > span.collapse-uncollapse-caret {\n  background-image: url('data:image/svg+xml;charset=utf8,<svg xmlns=\"http://www.w3.org/2000/svg\" viewBox=\"0 0 256 512\"><!--!Font Awesome Free 6.5.2 by @fontawesome - https://fontawesome.com License - https://fontawesome.com/license/free Copyright 2024 Fonticons, Inc.--><path fill=\"black\" d=\"M246.6 278.6c12.5-12.5 12.5-32.8 0-45.3l-128-128c-9.2-9.2-22.9-11.9-34.9-6.9s-19.8 16.6-19.8 29.6l0 256c0 12.9 7.8 24.6 19.8 29.6s25.7 2.2 34.9-6.9l128-128z\"/></svg>');\n}\n\n.repr-section-toggle-col\n  > button:not(.collapsed)\n  > span.collapse-uncollapse-caret {\n  background-image: url('data:image/svg+xml;charset=utf8,<svg xmlns=\"http://www.w3.org/2000/svg\" viewBox=\"0 0 320 512\"><!--!Font Awesome Free 6.5.2 by @fontawesome - https://fontawesome.com License - https://fontawesome.com/license/free Copyright 2024 Fonticons, Inc.--><path fill=\"black\" d=\"M137.4 374.6c12.5 12.5 32.8 12.5 45.3 0l128-128c9.2-9.2 11.9-22.9 6.9-34.9s-16.6-19.8-29.6-19.8L32 192c-12.9 0-24.6 7.8-29.6 19.8s-2.2 25.7 6.9 34.9l128 128z\"/></svg>');\n}\n\n/* Use white carets for dark mode */\n@media (prefers-color-scheme: dark) {\n  .repr-section-toggle-col > button.collapsed > span.collapse-uncollapse-caret {\n    background-image: url('data:image/svg+xml;charset=utf8,<svg xmlns=\"http://www.w3.org/2000/svg\" viewBox=\"0 0 256 512\"><!--!Font Awesome Free 6.5.2 by @fontawesome - https://fontawesome.com License - https://fontawesome.com/license/free Copyright 2024 Fonticons, Inc.--><path fill=\"white\" d=\"M246.6 278.6c12.5-12.5 12.5-32.8 0-45.3l-128-128c-9.2-9.2-22.9-11.9-34.9-6.9s-19.8 16.6-19.8 29.6l0 256c0 12.9 7.8 24.6 19.8 29.6s25.7 2.2 34.9-6.9l128-128z\"/></svg>');\n  }\n\n  .repr-section-toggle-col\n    > button:not(.collapsed)\n    > span.collapse-uncollapse-caret {\n    background-image: url('data:image/svg+xml;charset=utf8,<svg xmlns=\"http://www.w3.org/2000/svg\" viewBox=\"0 0 320 512\"><!--!Font Awesome Free 6.5.2 by @fontawesome - https://fontawesome.com License - https://fontawesome.com/license/free Copyright 2024 Fonticons, Inc.--><path fill=\"white\" d=\"M137.4 374.6c12.5 12.5 32.8 12.5 45.3 0l128-128c9.2-9.2 11.9-22.9 6.9-34.9s-16.6-19.8-29.6-19.8L32 192c-12.9 0-24.6 7.8-29.6 19.8s-2.2 25.7 6.9 34.9l128 128z\"/></svg>');\n  }\n}\n\n.channel-names-btn {\n  padding: 0;\n  border: none;\n  background: none;\n  text-decoration: underline;\n  text-decoration-style: dashed;\n  cursor: pointer;\n  color: #0d6efd;\n}\n\n.channel-names-btn:hover {\n  color: #0a58ca;\n}\n</style>\n\n\n\n<table class=\"repr table table-hover table-striped table-sm table-responsive small\">\n    \n\n\n\n\n\n\n\n<tr class=\"repr-section-header general-35976473-dfc7-4dd5-a0f7-99432434199f\"  title=\"Hide section\" \n    onclick=\"toggleVisibility('general-35976473-dfc7-4dd5-a0f7-99432434199f')\">\n    <th class=\"repr-section-toggle-col\">\n        <button>\n            \n            <span class=\"collapse-uncollapse-caret\"></span>\n        </button>\n    </th>\n    <th colspan=\"2\">\n        <strong>General</strong>\n    </th>\n</tr>\n\n<tr class=\"repr-element general-35976473-dfc7-4dd5-a0f7-99432434199f \">\n    <td class=\"repr-section-toggle-col\"></td>\n    <td>Filename(s)</td>\n    <td>\n        \n        sub-01_task-daf_eeg_filtered.eeg\n        \n        \n    </td>\n</tr>\n\n<tr class=\"repr-element general-35976473-dfc7-4dd5-a0f7-99432434199f \">\n    <td class=\"repr-section-toggle-col\"></td>\n    <td>MNE object type</td>\n    <td>RawBrainVision</td>\n</tr>\n<tr class=\"repr-element general-35976473-dfc7-4dd5-a0f7-99432434199f \">\n    <td class=\"repr-section-toggle-col\"></td>\n    <td>Measurement date</td>\n    \n    <td>Unknown</td>\n    \n</tr>\n<tr class=\"repr-element general-35976473-dfc7-4dd5-a0f7-99432434199f \">\n    <td class=\"repr-section-toggle-col\"></td>\n    <td>Participant</td>\n    \n    <td>Unknown</td>\n    \n</tr>\n<tr class=\"repr-element general-35976473-dfc7-4dd5-a0f7-99432434199f \">\n    <td class=\"repr-section-toggle-col\"></td>\n    <td>Experimenter</td>\n    \n    <td>Unknown</td>\n    \n</tr>\n    \n\n\n\n\n\n\n\n<tr class=\"repr-section-header acquisition-b35a8fbb-b59a-48e8-af34-da1aec2fc933\" \n    title=\"Hide section\"  onclick=\"toggleVisibility('acquisition-b35a8fbb-b59a-48e8-af34-da1aec2fc933')\">\n    <th class=\"repr-section-toggle-col\">\n        <button>\n            \n            <span class=\"collapse-uncollapse-caret\"></span>\n        </button>\n    </th>\n    <th colspan=\"2\">\n        <strong>Acquisition</strong>\n    </th>\n</tr>\n\n<tr class=\"repr-element acquisition-b35a8fbb-b59a-48e8-af34-da1aec2fc933 \">\n    <td class=\"repr-section-toggle-col\"></td>\n    <td>Duration</td>\n    <td>00:16:17 (HH:MM:SS)</td>\n</tr>\n\n\n\n\n\n\n\n\n<tr class=\"repr-element acquisition-b35a8fbb-b59a-48e8-af34-da1aec2fc933 \">\n    <td class=\"repr-section-toggle-col\"></td>\n    <td>Sampling frequency</td>\n    <td>250.00 Hz</td>\n</tr>\n\n\n<tr class=\"repr-element acquisition-b35a8fbb-b59a-48e8-af34-da1aec2fc933 \">\n    <td class=\"repr-section-toggle-col\"></td>\n    <td>Time points</td>\n    <td>244,238</td>\n</tr>\n\n\n    \n\n\n\n\n\n\n\n<tr class=\"repr-section-header channels-b697bb67-8eaf-40de-b056-01334fbce740\"  title=\"Hide section\" \n    onclick=\"toggleVisibility('channels-b697bb67-8eaf-40de-b056-01334fbce740')\">\n    <th class=\"repr-section-toggle-col\">\n        <button>\n            \n            <span class=\"collapse-uncollapse-caret\"></span>\n        </button>\n    </th>\n    <th colspan=\"2\">\n        <strong>Channels</strong>\n    </th>\n</tr>\n\n\n<tr class=\"repr-element channels-b697bb67-8eaf-40de-b056-01334fbce740 \">\n    <td class=\"repr-section-toggle-col\"></td>\n    <td>EEG</td>\n    <td>\n        <button class=\"channel-names-btn\" onclick=\"alert('Good EEG:\\n\\nFp1, Fz, F3, F7, FT9, FC5, FC1, C3, T7, TP9, CP5, CP1, Pz, P3, P7, O1, Oz, O2, P4, P8, TP10, CP6, CP2, C4, T8, FT10, FC6, FC2, F4, F8, Fp2, leog, AF3, AFz, F1, F5, FT7, FC3, FCz, C1, C5, TP7, CP3, P1, P5, PO7, PO3, POz, PO4, PO8, P6, P2, CPz, CP4, TP8, C6, C2, FC4, FT8, F6, F2, AF4, reog, egg, audio, Cz')\" title=\"(Click to open in popup)&#13;&#13;Fp1, Fz, F3, F7, FT9, FC5, FC1, C3, T7, TP9, CP5, CP1, Pz, P3, P7, O1, Oz, O2, P4, P8, TP10, CP6, CP2, C4, T8, FT10, FC6, FC2, F4, F8, Fp2, leog, AF3, AFz, F1, F5, FT7, FC3, FCz, C1, C5, TP7, CP3, P1, P5, PO7, PO3, POz, PO4, PO8, P6, P2, CPz, CP4, TP8, C6, C2, FC4, FT8, F6, F2, AF4, reog, egg, audio, Cz\">\n            66\n        </button>\n\n        \n    </td>\n</tr>\n\n\n<tr class=\"repr-element channels-b697bb67-8eaf-40de-b056-01334fbce740 \">\n    <td class=\"repr-section-toggle-col\"></td>\n    <td>Head & sensor digitization</td>\n    \n    <td>69 points</td>\n    \n</tr>\n    \n\n\n\n\n\n\n\n<tr class=\"repr-section-header filters-904ec9a7-684c-41e0-b6b1-bfed9c0a9f61\"  title=\"Hide section\" \n    onclick=\"toggleVisibility('filters-904ec9a7-684c-41e0-b6b1-bfed9c0a9f61')\">\n    <th class=\"repr-section-toggle-col\">\n        <button>\n            \n            <span class=\"collapse-uncollapse-caret\"></span>\n        </button>\n    </th>\n    <th colspan=\"2\">\n        <strong>Filters</strong>\n    </th>\n</tr>\n\n<tr class=\"repr-element filters-904ec9a7-684c-41e0-b6b1-bfed9c0a9f61 \">\n    <td class=\"repr-section-toggle-col\"></td>\n    <td>Highpass</td>\n    <td>0.00 Hz</td>\n</tr>\n\n\n<tr class=\"repr-element filters-904ec9a7-684c-41e0-b6b1-bfed9c0a9f61 \">\n    <td class=\"repr-section-toggle-col\"></td>\n    <td>Lowpass</td>\n    <td>125.00 Hz</td>\n</tr>\n\n\n</table>"
     },
     "execution_count": 4,
     "metadata": {},
     "output_type": "execute_result"
    }
   ],
   "source": [
    "# Path to the EEG file\n",
    "eegPath = '../../Datasets/EEG/sub-01/eeg/sub-01_task-daf_eeg_filtered.vhdr'\n",
    "\n",
    "# Load the EEG file using MNE\n",
    "# MNE has different read formats for different EEG file types\n",
    "# Here we are using read_raw_edf to read the EEG file\n",
    "# preload=True loads the data into memory (default is False, which loads the data when needed)\n",
    "raw = mne.io.read_raw_brainvision(eegPath, preload=True)\n",
    "elecPos = pd.read_csv('../../Datasets/EEG/sub-01/eeg/sub-01_electrodes.tsv', sep='\\t')\n",
    "# Add fiducials\n",
    "fiducials = pd.DataFrame({\n",
    "    'name': ['Nz', 'LPA', 'RPA'],\n",
    "    'x': [-4.129838157917329e-18, -0.0729282673627754, 0.08278152042487033],\n",
    "    'y': [0.10011015398430487, 3.008505424862354e-18, -3.414981080487009e-18],\n",
    "    'z': [-5.7777898331617076e-33, 3.851859888774472e-34, 3.4666738998970245e-33]\n",
    "})\n",
    "\n",
    "# Concatenate the original electrode positions with the fiducials\n",
    "elecPos = pd.concat([elecPos, fiducials], ignore_index=True)\n",
    "\n",
    "montage = mne.channels.make_dig_montage(\n",
    "    ch_pos=dict(zip(elecPos['name'], elecPos[['x', 'y', 'z']].values)),\n",
    "    coord_frame='head'\n",
    ")\n",
    "raw.set_montage(montage)"
   ]
  },
  {
   "cell_type": "code",
   "execution_count": 5,
   "metadata": {
    "ExecuteTime": {
     "end_time": "2024-09-11T19:56:51.853888Z",
     "start_time": "2024-09-11T19:56:51.616968Z"
    }
   },
   "outputs": [],
   "source": [
    "# Creating a fake channel with a polynomial trend\n",
    "fake_data = raw.get_data()[0]\n",
    "t = np.linspace(0, 1, len(fake_data))\n",
    "\n",
    "np.random.seed(42)\n",
    "trend = np.random.randn(3)\n",
    "fake_data += 4e-3 * np.polyval(trend, t)\n",
    "\n",
    "# Let us look at different ways to remove trend from the data\n",
    "# First, we can simply mean-center the data\n",
    "# This is done by subtracting the mean of the data from the data\n",
    "fake_data_centered = fake_data - np.mean(fake_data)\n",
    "\n",
    "# Second, we can remove a linear trend from the data\n",
    "# This can be done using detrend() function of numpy\n",
    "fake_data_detrended = detrend(fake_data, type='linear')\n",
    "\n",
    "# Next we can remove a polynomial trend from the data\n",
    "# This is done by fitting a polynomial model to the data and subtracting the model from the data\n",
    "# We can use the polyfit() function of numpy to fit a polynomial model to the data\n",
    "# The polyfit() function returns the coefficients of the polynomial model\n",
    "# We can use the polyval() function of numpy to evaluate the polynomial model at the data points\n",
    "# We can then subtract the polynomial model from the data\n",
    "trend = np.polyfit(t, fake_data, 3)\n",
    "fake_data_detrended2 = fake_data - np.polyval(trend, t)\n",
    "\n",
    "# Plot the original data and the detrended data\n",
    "f, axs = plt.subplots(2, 2, figsize=(10, 10))\n",
    "axs[0, 0].plot(t, fake_data)\n",
    "axs[0, 0].set_title('Original Data')\n",
    "axs[0, 1].plot(t, fake_data_centered)\n",
    "axs[0, 1].set_title('Mean-Centered Data')\n",
    "axs[1, 0].plot(t, fake_data_detrended)\n",
    "axs[1, 0].set_title('Linear Detrended Data')\n",
    "axs[1, 1].plot(t, fake_data_detrended2)\n",
    "axs[1, 1].set_title('Polynomial Detrended Data')\n",
    "plt.show()"
   ]
  },
  {
   "cell_type": "code",
   "execution_count": null,
   "metadata": {},
   "outputs": [],
   "source": []
  }
 ],
 "metadata": {
  "kernelspec": {
   "display_name": "eegmeg",
   "language": "python",
   "name": "python3"
  },
  "language_info": {
   "codemirror_mode": {
    "name": "ipython",
    "version": 3
   },
   "file_extension": ".py",
   "mimetype": "text/x-python",
   "name": "python",
   "nbconvert_exporter": "python",
   "pygments_lexer": "ipython3",
   "version": "3.9.19"
  }
 },
 "nbformat": 4,
 "nbformat_minor": 2
}
