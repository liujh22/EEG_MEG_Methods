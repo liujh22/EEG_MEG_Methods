{
 "cells": [
  {
   "cell_type": "code",
   "source": [
    "# Load modules necessary\n",
    "import os\n",
    "import numpy as np\n",
    "import matplotlib.pyplot as plt\n",
    "import mne\n",
    "from scipy.signal import detrend\n",
    "\n",
    "%matplotlib qt"
   ],
   "metadata": {
    "collapsed": false,
    "ExecuteTime": {
     "end_time": "2024-10-09T21:16:39.893704Z",
     "start_time": "2024-10-09T21:16:36.633888Z"
    }
   },
   "outputs": [],
   "execution_count": 1
  },
  {
   "cell_type": "markdown",
   "source": [
    "## Load sample dataset\n",
    "\n",
    "##### For EEG dataset, we will use EEG Motor Movement/Imagery Dataset from here: https://physionet.org/content/eegmmidb/1.0.0/#files-panel\n",
    "\n",
    "##### The original dataset contains 109 volunteers. However, here in this tutorial we will explore data from Subject 42\n",
    "##### You can download the dataset from Brightspace"
   ],
   "metadata": {
    "collapsed": false
   }
  },
  {
   "cell_type": "code",
   "execution_count": 2,
   "outputs": [
    {
     "name": "stdout",
     "output_type": "stream",
     "text": [
      "Extracting EDF parameters from /Users/jiahuan/Desktop/NYU/PSYCH-GA 3405 EEG/My_Fork/Datasets/EEG/S042/S042R01.edf...\n",
      "EDF file detected\n"
     ]
    },
    {
     "ename": "FileNotFoundError",
     "evalue": "[Errno 2] No such file or directory: '/Users/jiahuan/Desktop/NYU/PSYCH-GA 3405 EEG/My_Fork/Datasets/EEG/S042/S042R01.edf'",
     "output_type": "error",
     "traceback": [
      "\u001B[0;31m---------------------------------------------------------------------------\u001B[0m",
      "\u001B[0;31mFileNotFoundError\u001B[0m                         Traceback (most recent call last)",
      "Cell \u001B[0;32mIn[2], line 8\u001B[0m\n\u001B[1;32m      2\u001B[0m eegPath \u001B[38;5;241m=\u001B[39m \u001B[38;5;124m'\u001B[39m\u001B[38;5;124m../../Datasets/EEG/S042/S042R01.edf\u001B[39m\u001B[38;5;124m'\u001B[39m\n\u001B[1;32m      4\u001B[0m \u001B[38;5;66;03m# Load the EEG file using MNE\u001B[39;00m\n\u001B[1;32m      5\u001B[0m \u001B[38;5;66;03m# MNE has different read formats for different EEG file types\u001B[39;00m\n\u001B[1;32m      6\u001B[0m \u001B[38;5;66;03m# Here we are using read_raw_edf to read the EEG file\u001B[39;00m\n\u001B[1;32m      7\u001B[0m \u001B[38;5;66;03m# preload=True loads the data into memory (default is False, which loads the data when needed)\u001B[39;00m\n\u001B[0;32m----> 8\u001B[0m raw \u001B[38;5;241m=\u001B[39m mne\u001B[38;5;241m.\u001B[39mio\u001B[38;5;241m.\u001B[39mread_raw_edf(eegPath, preload\u001B[38;5;241m=\u001B[39m\u001B[38;5;28;01mTrue\u001B[39;00m)\n",
      "File \u001B[0;32m~/anaconda3/envs/EEG_MEG_Methods/lib/python3.11/site-packages/mne/io/edf/edf.py:1689\u001B[0m, in \u001B[0;36mread_raw_edf\u001B[0;34m(input_fname, eog, misc, stim_channel, exclude, infer_types, include, preload, units, encoding, exclude_after_unique, verbose)\u001B[0m\n\u001B[1;32m   1687\u001B[0m \u001B[38;5;28;01mif\u001B[39;00m ext \u001B[38;5;241m!=\u001B[39m \u001B[38;5;124m\"\u001B[39m\u001B[38;5;124medf\u001B[39m\u001B[38;5;124m\"\u001B[39m:\n\u001B[1;32m   1688\u001B[0m     \u001B[38;5;28;01mraise\u001B[39;00m \u001B[38;5;167;01mNotImplementedError\u001B[39;00m(\u001B[38;5;124mf\u001B[39m\u001B[38;5;124m\"\u001B[39m\u001B[38;5;124mOnly EDF files are supported, got \u001B[39m\u001B[38;5;132;01m{\u001B[39;00mext\u001B[38;5;132;01m}\u001B[39;00m\u001B[38;5;124m.\u001B[39m\u001B[38;5;124m\"\u001B[39m)\n\u001B[0;32m-> 1689\u001B[0m \u001B[38;5;28;01mreturn\u001B[39;00m RawEDF(\n\u001B[1;32m   1690\u001B[0m     input_fname\u001B[38;5;241m=\u001B[39minput_fname,\n\u001B[1;32m   1691\u001B[0m     eog\u001B[38;5;241m=\u001B[39meog,\n\u001B[1;32m   1692\u001B[0m     misc\u001B[38;5;241m=\u001B[39mmisc,\n\u001B[1;32m   1693\u001B[0m     stim_channel\u001B[38;5;241m=\u001B[39mstim_channel,\n\u001B[1;32m   1694\u001B[0m     exclude\u001B[38;5;241m=\u001B[39mexclude,\n\u001B[1;32m   1695\u001B[0m     infer_types\u001B[38;5;241m=\u001B[39minfer_types,\n\u001B[1;32m   1696\u001B[0m     preload\u001B[38;5;241m=\u001B[39mpreload,\n\u001B[1;32m   1697\u001B[0m     include\u001B[38;5;241m=\u001B[39minclude,\n\u001B[1;32m   1698\u001B[0m     units\u001B[38;5;241m=\u001B[39munits,\n\u001B[1;32m   1699\u001B[0m     encoding\u001B[38;5;241m=\u001B[39mencoding,\n\u001B[1;32m   1700\u001B[0m     exclude_after_unique\u001B[38;5;241m=\u001B[39mexclude_after_unique,\n\u001B[1;32m   1701\u001B[0m     verbose\u001B[38;5;241m=\u001B[39mverbose,\n\u001B[1;32m   1702\u001B[0m )\n",
      "File \u001B[0;32m<decorator-gen-203>:12\u001B[0m, in \u001B[0;36m__init__\u001B[0;34m(self, input_fname, eog, misc, stim_channel, exclude, infer_types, preload, include, units, encoding, exclude_after_unique, verbose)\u001B[0m\n",
      "File \u001B[0;32m~/anaconda3/envs/EEG_MEG_Methods/lib/python3.11/site-packages/mne/io/edf/edf.py:151\u001B[0m, in \u001B[0;36mRawEDF.__init__\u001B[0;34m(self, input_fname, eog, misc, stim_channel, exclude, infer_types, preload, include, units, encoding, exclude_after_unique, verbose)\u001B[0m\n\u001B[1;32m    149\u001B[0m logger\u001B[38;5;241m.\u001B[39minfo(\u001B[38;5;124mf\u001B[39m\u001B[38;5;124m\"\u001B[39m\u001B[38;5;124mExtracting EDF parameters from \u001B[39m\u001B[38;5;132;01m{\u001B[39;00minput_fname\u001B[38;5;132;01m}\u001B[39;00m\u001B[38;5;124m...\u001B[39m\u001B[38;5;124m\"\u001B[39m)\n\u001B[1;32m    150\u001B[0m input_fname \u001B[38;5;241m=\u001B[39m os\u001B[38;5;241m.\u001B[39mpath\u001B[38;5;241m.\u001B[39mabspath(input_fname)\n\u001B[0;32m--> 151\u001B[0m info, edf_info, orig_units \u001B[38;5;241m=\u001B[39m _get_info(\n\u001B[1;32m    152\u001B[0m     input_fname,\n\u001B[1;32m    153\u001B[0m     stim_channel,\n\u001B[1;32m    154\u001B[0m     eog,\n\u001B[1;32m    155\u001B[0m     misc,\n\u001B[1;32m    156\u001B[0m     exclude,\n\u001B[1;32m    157\u001B[0m     infer_types,\n\u001B[1;32m    158\u001B[0m     preload,\n\u001B[1;32m    159\u001B[0m     include,\n\u001B[1;32m    160\u001B[0m     exclude_after_unique,\n\u001B[1;32m    161\u001B[0m )\n\u001B[1;32m    162\u001B[0m logger\u001B[38;5;241m.\u001B[39minfo(\u001B[38;5;124m\"\u001B[39m\u001B[38;5;124mCreating raw.info structure...\u001B[39m\u001B[38;5;124m\"\u001B[39m)\n\u001B[1;32m    164\u001B[0m _validate_type(units, (\u001B[38;5;28mstr\u001B[39m, \u001B[38;5;28;01mNone\u001B[39;00m, \u001B[38;5;28mdict\u001B[39m), \u001B[38;5;124m\"\u001B[39m\u001B[38;5;124munits\u001B[39m\u001B[38;5;124m\"\u001B[39m)\n",
      "File \u001B[0;32m~/anaconda3/envs/EEG_MEG_Methods/lib/python3.11/site-packages/mne/io/edf/edf.py:537\u001B[0m, in \u001B[0;36m_get_info\u001B[0;34m(fname, stim_channel, eog, misc, exclude, infer_types, preload, include, exclude_after_unique)\u001B[0m\n\u001B[1;32m    534\u001B[0m eog \u001B[38;5;241m=\u001B[39m eog \u001B[38;5;28;01mif\u001B[39;00m eog \u001B[38;5;129;01mis\u001B[39;00m \u001B[38;5;129;01mnot\u001B[39;00m \u001B[38;5;28;01mNone\u001B[39;00m \u001B[38;5;28;01melse\u001B[39;00m []\n\u001B[1;32m    535\u001B[0m misc \u001B[38;5;241m=\u001B[39m misc \u001B[38;5;28;01mif\u001B[39;00m misc \u001B[38;5;129;01mis\u001B[39;00m \u001B[38;5;129;01mnot\u001B[39;00m \u001B[38;5;28;01mNone\u001B[39;00m \u001B[38;5;28;01melse\u001B[39;00m []\n\u001B[0;32m--> 537\u001B[0m edf_info, orig_units \u001B[38;5;241m=\u001B[39m _read_header(\n\u001B[1;32m    538\u001B[0m     fname, exclude, infer_types, include, exclude_after_unique\n\u001B[1;32m    539\u001B[0m )\n\u001B[1;32m    541\u001B[0m \u001B[38;5;66;03m# XXX: `tal_ch_names` to pass to `_check_stim_channel` should be computed\u001B[39;00m\n\u001B[1;32m    542\u001B[0m \u001B[38;5;66;03m#      from `edf_info['ch_names']` and `edf_info['tal_idx']` but 'tal_idx'\u001B[39;00m\n\u001B[1;32m    543\u001B[0m \u001B[38;5;66;03m#      contains stim channels that are not TAL.\u001B[39;00m\n\u001B[1;32m    544\u001B[0m stim_channel_idxs, _ \u001B[38;5;241m=\u001B[39m _check_stim_channel(stim_channel, edf_info[\u001B[38;5;124m\"\u001B[39m\u001B[38;5;124mch_names\u001B[39m\u001B[38;5;124m\"\u001B[39m])\n",
      "File \u001B[0;32m~/anaconda3/envs/EEG_MEG_Methods/lib/python3.11/site-packages/mne/io/edf/edf.py:511\u001B[0m, in \u001B[0;36m_read_header\u001B[0;34m(fname, exclude, infer_types, include, exclude_after_unique)\u001B[0m\n\u001B[1;32m    509\u001B[0m logger\u001B[38;5;241m.\u001B[39minfo(\u001B[38;5;124mf\u001B[39m\u001B[38;5;124m\"\u001B[39m\u001B[38;5;132;01m{\u001B[39;00mext\u001B[38;5;241m.\u001B[39mupper()\u001B[38;5;132;01m}\u001B[39;00m\u001B[38;5;124m file detected\u001B[39m\u001B[38;5;124m\"\u001B[39m)\n\u001B[1;32m    510\u001B[0m \u001B[38;5;28;01mif\u001B[39;00m ext \u001B[38;5;129;01min\u001B[39;00m (\u001B[38;5;124m\"\u001B[39m\u001B[38;5;124mbdf\u001B[39m\u001B[38;5;124m\"\u001B[39m, \u001B[38;5;124m\"\u001B[39m\u001B[38;5;124medf\u001B[39m\u001B[38;5;124m\"\u001B[39m):\n\u001B[0;32m--> 511\u001B[0m     \u001B[38;5;28;01mreturn\u001B[39;00m _read_edf_header(\n\u001B[1;32m    512\u001B[0m         fname, exclude, infer_types, include, exclude_after_unique\n\u001B[1;32m    513\u001B[0m     )\n\u001B[1;32m    514\u001B[0m \u001B[38;5;28;01melif\u001B[39;00m ext \u001B[38;5;241m==\u001B[39m \u001B[38;5;124m\"\u001B[39m\u001B[38;5;124mgdf\u001B[39m\u001B[38;5;124m\"\u001B[39m:\n\u001B[1;32m    515\u001B[0m     \u001B[38;5;28;01mreturn\u001B[39;00m _read_gdf_header(fname, exclude, include), \u001B[38;5;28;01mNone\u001B[39;00m\n",
      "File \u001B[0;32m~/anaconda3/envs/EEG_MEG_Methods/lib/python3.11/site-packages/mne/io/edf/edf.py:805\u001B[0m, in \u001B[0;36m_read_edf_header\u001B[0;34m(fname, exclude, infer_types, include, exclude_after_unique)\u001B[0m\n\u001B[1;32m    802\u001B[0m \u001B[38;5;250m\u001B[39m\u001B[38;5;124;03m\"\"\"Read header information from EDF+ or BDF file.\"\"\"\u001B[39;00m\n\u001B[1;32m    803\u001B[0m edf_info \u001B[38;5;241m=\u001B[39m {\u001B[38;5;124m\"\u001B[39m\u001B[38;5;124mevents\u001B[39m\u001B[38;5;124m\"\u001B[39m: []}\n\u001B[0;32m--> 805\u001B[0m \u001B[38;5;28;01mwith\u001B[39;00m \u001B[38;5;28mopen\u001B[39m(fname, \u001B[38;5;124m\"\u001B[39m\u001B[38;5;124mrb\u001B[39m\u001B[38;5;124m\"\u001B[39m) \u001B[38;5;28;01mas\u001B[39;00m fid:\n\u001B[1;32m    806\u001B[0m     fid\u001B[38;5;241m.\u001B[39mread(\u001B[38;5;241m8\u001B[39m)  \u001B[38;5;66;03m# version (unused here)\u001B[39;00m\n\u001B[1;32m    808\u001B[0m     \u001B[38;5;66;03m# patient ID\u001B[39;00m\n",
      "\u001B[0;31mFileNotFoundError\u001B[0m: [Errno 2] No such file or directory: '/Users/jiahuan/Desktop/NYU/PSYCH-GA 3405 EEG/My_Fork/Datasets/EEG/S042/S042R01.edf'"
     ]
    }
   ],
   "source": [
    "# Path to the EEG file\n",
    "eegPath = '../../Datasets/EEG/S042/S042R01.edf'\n",
    "\n",
    "# Load the EEG file using MNE\n",
    "# MNE has different read formats for different EEG file types\n",
    "# Here we are using read_raw_edf to read the EEG file\n",
    "# preload=True loads the data into memory (default is False, which loads the data when needed)\n",
    "raw = mne.io.read_raw_edf(eegPath, preload=True)"
   ],
   "metadata": {
    "collapsed": false,
    "ExecuteTime": {
     "end_time": "2024-09-18T17:38:57.926726Z",
     "start_time": "2024-09-18T17:38:57.535303Z"
    }
   }
  },
  {
   "cell_type": "code",
   "execution_count": 3,
   "outputs": [
    {
     "ename": "NameError",
     "evalue": "name 'raw' is not defined",
     "output_type": "error",
     "traceback": [
      "\u001B[0;31m---------------------------------------------------------------------------\u001B[0m",
      "\u001B[0;31mNameError\u001B[0m                                 Traceback (most recent call last)",
      "Cell \u001B[0;32mIn[3], line 4\u001B[0m\n\u001B[1;32m      1\u001B[0m \u001B[38;5;66;03m# Let us try plotting an EEG channel using matplotlib\u001B[39;00m\n\u001B[1;32m      2\u001B[0m \u001B[38;5;66;03m# We can get the data of the EEG channel using get_data() function\u001B[39;00m\n\u001B[1;32m      3\u001B[0m \u001B[38;5;66;03m# The data is in the form of a numpy array\u001B[39;00m\n\u001B[0;32m----> 4\u001B[0m data \u001B[38;5;241m=\u001B[39m raw\u001B[38;5;241m.\u001B[39mget_data()\n\u001B[1;32m      5\u001B[0m plt\u001B[38;5;241m.\u001B[39mplot(raw\u001B[38;5;241m.\u001B[39mtimes, data[\u001B[38;5;241m0\u001B[39m, :])\n\u001B[1;32m      6\u001B[0m plt\u001B[38;5;241m.\u001B[39mxlabel(\u001B[38;5;124m'\u001B[39m\u001B[38;5;124mTime (s)\u001B[39m\u001B[38;5;124m'\u001B[39m)\n",
      "\u001B[0;31mNameError\u001B[0m: name 'raw' is not defined"
     ]
    }
   ],
   "source": [
    "# Let us try plotting an EEG channel using matplotlib\n",
    "# We can get the data of the EEG channel using get_data() function\n",
    "# The data is in the form of a numpy array\n",
    "data = raw.get_data()\n",
    "plt.plot(raw.times, data[0, :])\n",
    "plt.xlabel('Time (s)')\n",
    "plt.ylabel('Amplitude (uV)')\n",
    "plt.title('EEG Channel 1')\n",
    "plt.show()"
   ],
   "metadata": {
    "collapsed": false,
    "ExecuteTime": {
     "end_time": "2024-09-18T17:38:58.290111Z",
     "start_time": "2024-09-18T17:38:58.283380Z"
    }
   }
  },
  {
   "cell_type": "code",
   "execution_count": null,
   "outputs": [],
   "source": [
    "# Now let's try using the interactive plotting feature of MNE\n",
    "# This is done by using the plot() function of the raw object\n",
    "# This will open a new window where we can interactively plot the EEG data\n",
    "# This is useful for exploring the data, checking for any artifacts, finding bad channels, or sections of recordings that need to be removed\n",
    "raw.plot(scalings=10e-5, n_channels=8, title='EEG Data')\n",
    "plt.show()"
   ],
   "metadata": {
    "collapsed": false
   }
  },
  {
   "cell_type": "code",
   "execution_count": null,
   "outputs": [],
   "source": [
    "# Referencing data\n",
    "# EEG data is usually recorded with respect to a reference electrode\n",
    "# The reference electrode can be different for different EEG systems\n",
    "# The data can be re-referenced to a common reference electrode, such as the average reference, linked mastoids, etc.\n",
    "# Here we are going to re-reference the data using the average reference and the mastoids as reference electrodes\n",
    "# The average refernce is calculated by taking the average of all the electrodes\n",
    "raw_reref = raw.copy() # Create a copy of the raw object so that the original data is not modified\n",
    "raw_reref.set_eeg_reference(ref_channels='average')\n",
    "# We can also rerefence data using a specific channel as the reference electrode\n",
    "# For example, we can use the mastoids as reference electrodes\n",
    "raw_reref2 = raw.copy()\n",
    "raw_reref2.set_eeg_reference(ref_channels= ['T7..', 'T8..'])\n",
    "\n",
    "# Plot the data before referencing\n",
    "fig1 = raw.plot(scalings=10e-5, n_channels=8, title='EEG Data (Original)', block=False)\n",
    "# Plot the data after referencing using average reference\n",
    "fig2 = raw_reref.plot(scalings=10e-5, n_channels=8, title='EEG Data (Average Reference)', block=False)\n",
    "# Plot the data after referencing using first channel as reference\n",
    "fig3 = raw_reref2.plot(scalings=10e-5, n_channels=8, title='EEG Data (Mastoid Reference)', block=False)\n",
    "plt.show()"
   ],
   "metadata": {
    "collapsed": false
   }
  },
  {
   "cell_type": "code",
   "execution_count": null,
   "outputs": [],
   "source": [
    "# Creating a fake channel with a polynomial trend\n",
    "fake_data = raw.get_data()[0]\n",
    "t = np.linspace(0, 1, len(fake_data))\n",
    "np.random.seed(42)\n",
    "trend = np.random.randn(3)\n",
    "fake_data += 4e-3 * np.polyval(trend, t)\n",
    "\n",
    "# Let us look at different ways to remove trend from the data\n",
    "# First, we can simply mean-center the data\n",
    "# This is done by subtracting the mean of the data from the data\n",
    "fake_data_centered = fake_data - np.mean(fake_data)\n",
    "\n",
    "# Second, we can remove a linear trend from the data\n",
    "# This can be done using detrend() function of numpy\n",
    "fake_data_detrended = detrend(fake_data, type='linear')\n",
    "\n",
    "# Next we can remove a polynomial trend from the data\n",
    "# This is done by fitting a polynomial model to the data and subtracting the model from the data\n",
    "# We can use the polyfit() function of numpy to fit a polynomial model to the data\n",
    "# The polyfit() function returns the coefficients of the polynomial model\n",
    "# We can use the polyval() function of numpy to evaluate the polynomial model at the data points\n",
    "# We can then subtract the polynomial model from the data\n",
    "trend = np.polyfit(t, fake_data, 3)\n",
    "fake_data_detrended2 = fake_data - np.polyval(trend, t)\n",
    "\n",
    "# Plot the original data and the detrended data\n",
    "f, axs = plt.subplots(2, 2, figsize=(10, 10))\n",
    "axs[0, 0].plot(t, fake_data)\n",
    "axs[0, 0].set_title('Original Data')\n",
    "axs[0, 1].plot(t, fake_data_centered)\n",
    "axs[0, 1].set_title('Mean-Centered Data')\n",
    "axs[1, 0].plot(t, fake_data_detrended)\n",
    "axs[1, 0].set_title('Linear Detrended Data')\n",
    "axs[1, 1].plot(t, fake_data_detrended2)\n",
    "axs[1, 1].set_title('Polynomial Detrended Data')\n",
    "plt.show()"
   ],
   "metadata": {
    "collapsed": false
   }
  },
  {
   "cell_type": "code",
   "execution_count": null,
   "outputs": [],
   "source": [],
   "metadata": {
    "collapsed": false
   }
  }
 ],
 "metadata": {
  "kernelspec": {
   "display_name": "eegmne",
   "language": "python",
   "name": "python3"
  },
  "language_info": {
   "codemirror_mode": {
    "name": "ipython",
    "version": 3
   },
   "file_extension": ".py",
   "mimetype": "text/x-python",
   "name": "python",
   "nbconvert_exporter": "python",
   "pygments_lexer": "ipython3",
   "version": "3.9.19"
  }
 },
 "nbformat": 4,
 "nbformat_minor": 2
}
