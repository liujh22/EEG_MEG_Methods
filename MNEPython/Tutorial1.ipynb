{
 "cells": [
  {
   "cell_type": "code",
   "execution_count": 13,
   "outputs": [],
   "source": [
    "# Load modules necessary\n",
    "import os\n",
    "import numpy as np\n",
    "import matplotlib.pyplot as plt\n",
    "import mne\n",
    "from scipy.signal import detrend\n",
    "\n",
    "%matplotlib qt"
   ],
   "metadata": {
    "collapsed": false,
    "ExecuteTime": {
     "end_time": "2024-09-11T19:50:01.330190Z",
     "start_time": "2024-09-11T19:50:01.323416Z"
    }
   }
  },
  {
   "cell_type": "markdown",
   "source": [
    "## Load sample dataset\n",
    "\n",
    "##### For EEG dataset, we will use EEG Motor Movement/Imagery Dataset from here: https://physionet.org/content/eegmmidb/1.0.0/#files-panel\n",
    "\n",
    "##### The original dataset contains 109 volunteers. However, here in this tutorial we will explore data from Subject 42\n",
    "##### You can download the dataset from Brightspace"
   ],
   "metadata": {
    "collapsed": false
   }
  },
  {
   "cell_type": "code",
   "execution_count": 14,
   "outputs": [
    {
     "name": "stdout",
     "output_type": "stream",
     "text": [
      "Extracting EDF parameters from /Users/jiahuan/Desktop/NYU/PSYCH-GA 3405 EEG/Datasets/EEG/S042/S042R01.edf...\n",
      "EDF file detected\n",
      "Setting channel info structure...\n",
      "Creating raw.info structure...\n",
      "Reading 0 ... 9759  =      0.000 ...    60.994 secs...\n"
     ]
    }
   ],
   "source": [
    "# Path to the EEG file\n",
    "eegPath = '../../Datasets/EEG/S042/S042R01.edf'\n",
    "\n",
    "# Load the EEG file using MNE\n",
    "# MNE has different read formats for different EEG file types\n",
    "# Here we are using read_raw_edf to read the EEG file\n",
    "# preload=True loads the data into memory (default is False, which loads the data when needed)\n",
    "raw = mne.io.read_raw_edf(eegPath, preload=True)"
   ],
   "metadata": {
    "collapsed": false,
    "ExecuteTime": {
     "end_time": "2024-09-11T19:50:55.923575Z",
     "start_time": "2024-09-11T19:50:55.885940Z"
    }
   }
  },
  {
   "cell_type": "code",
   "execution_count": 15,
   "outputs": [],
   "source": [
    "# Let us try plotting an EEG channel using matplotlib\n",
    "# We can get the data of the EEG channel using get_data() function\n",
    "# The data is in the form of a numpy array\n",
    "data = raw.get_data()\n",
    "plt.plot(raw.times, data[0, :])\n",
    "plt.xlabel('Time (s)')\n",
    "plt.ylabel('Amplitude (uV)')\n",
    "plt.title('EEG Channel 1')\n",
    "plt.show()"
   ],
   "metadata": {
    "collapsed": false,
    "ExecuteTime": {
     "end_time": "2024-09-11T19:50:57.690898Z",
     "start_time": "2024-09-11T19:50:57.670791Z"
    }
   }
  },
  {
   "cell_type": "code",
   "execution_count": null,
   "outputs": [],
   "source": [
    "# Now let's try using the interactive plotting feature of MNE\n",
    "# This is done by using the plot() function of the raw object\n",
    "# This will open a new window where we can interactively plot the EEG data\n",
    "# This is useful for exploring the data, checking for any artifacts, finding bad channels, or sections of recordings that need to be removed\n",
    "raw.plot(scalings=10e-5, n_channels=8, title='EEG Data')\n",
    "plt.show()"
   ],
   "metadata": {
    "collapsed": false
   }
  },
  {
   "cell_type": "code",
   "execution_count": null,
   "outputs": [],
   "source": [
    "# Referencing data\n",
    "# EEG data is usually recorded with respect to a reference electrode\n",
    "# The reference electrode can be different for different EEG systems\n",
    "# The data can be re-referenced to a common reference electrode, such as the average reference, linked mastoids, etc.\n",
    "# Here we are going to re-reference the data using the average reference and the mastoids as reference electrodes\n",
    "# The average refernce is calculated by taking the average of all the electrodes\n",
    "raw_reref = raw.copy() # Create a copy of the raw object so that the original data is not modified\n",
    "raw_reref.set_eeg_reference(ref_channels='average')\n",
    "# We can also rerefence data using a specific channel as the reference electrode\n",
    "# For example, we can use the mastoids as reference electrodes\n",
    "raw_reref2 = raw.copy()\n",
    "raw_reref2.set_eeg_reference(ref_channels= ['T7..', 'T8..'])\n",
    "\n",
    "# Plot the data before referencing\n",
    "fig1 = raw.plot(scalings=10e-5, n_channels=8, title='EEG Data (Original)', block=False)\n",
    "# Plot the data after referencing using average reference\n",
    "fig2 = raw_reref.plot(scalings=10e-5, n_channels=8, title='EEG Data (Average Reference)', block=False)\n",
    "# Plot the data after referencing using first channel as reference\n",
    "fig3 = raw_reref2.plot(scalings=10e-5, n_channels=8, title='EEG Data (Mastoid Reference)', block=False)\n",
    "plt.show()"
   ],
   "metadata": {
    "collapsed": false
   }
  },
  {
   "cell_type": "code",
   "execution_count": null,
   "outputs": [],
   "source": [
    "# Creating a fake channel with a polynomial trend\n",
    "fake_data = raw.get_data()[0]\n",
    "t = np.linspace(0, 1, len(fake_data))\n",
    "np.random.seed(42)\n",
    "trend = np.random.randn(3)\n",
    "fake_data += 4e-3 * np.polyval(trend, t)\n",
    "\n",
    "# Let us look at different ways to remove trend from the data\n",
    "# First, we can simply mean-center the data\n",
    "# This is done by subtracting the mean of the data from the data\n",
    "fake_data_centered = fake_data - np.mean(fake_data)\n",
    "\n",
    "# Second, we can remove a linear trend from the data\n",
    "# This can be done using detrend() function of numpy\n",
    "fake_data_detrended = detrend(fake_data, type='linear')\n",
    "\n",
    "# Next we can remove a polynomial trend from the data\n",
    "# This is done by fitting a polynomial model to the data and subtracting the model from the data\n",
    "# We can use the polyfit() function of numpy to fit a polynomial model to the data\n",
    "# The polyfit() function returns the coefficients of the polynomial model\n",
    "# We can use the polyval() function of numpy to evaluate the polynomial model at the data points\n",
    "# We can then subtract the polynomial model from the data\n",
    "trend = np.polyfit(t, fake_data, 3)\n",
    "fake_data_detrended2 = fake_data - np.polyval(trend, t)\n",
    "\n",
    "# Plot the original data and the detrended data\n",
    "f, axs = plt.subplots(2, 2, figsize=(10, 10))\n",
    "axs[0, 0].plot(t, fake_data)\n",
    "axs[0, 0].set_title('Original Data')\n",
    "axs[0, 1].plot(t, fake_data_centered)\n",
    "axs[0, 1].set_title('Mean-Centered Data')\n",
    "axs[1, 0].plot(t, fake_data_detrended)\n",
    "axs[1, 0].set_title('Linear Detrended Data')\n",
    "axs[1, 1].plot(t, fake_data_detrended2)\n",
    "axs[1, 1].set_title('Polynomial Detrended Data')\n",
    "plt.show()"
   ],
   "metadata": {
    "collapsed": false
   }
  },
  {
   "cell_type": "code",
   "execution_count": null,
   "outputs": [],
   "source": [],
   "metadata": {
    "collapsed": false
   }
  }
 ],
 "metadata": {
  "kernelspec": {
   "display_name": "eegmne",
   "language": "python",
   "name": "python3"
  },
  "language_info": {
   "codemirror_mode": {
    "name": "ipython",
    "version": 3
   },
   "file_extension": ".py",
   "mimetype": "text/x-python",
   "name": "python",
   "nbconvert_exporter": "python",
   "pygments_lexer": "ipython3",
   "version": "3.9.19"
  }
 },
 "nbformat": 4,
 "nbformat_minor": 2
}
